{
 "cells": [
  {
   "cell_type": "code",
   "execution_count": 1,
   "metadata": {},
   "outputs": [],
   "source": [
    "import numpy as np\n",
    "from scipy.io.wavfile import write"
   ]
  },
  {
   "cell_type": "code",
   "execution_count": 2,
   "metadata": {},
   "outputs": [],
   "source": [
    "def generate_white_noise(duration=1, sampling_rate=44100, sample_depth=16, quantization_format='int', filename='white_noise.wav'):\n",
    "    samples = np.random.uniform(low=-1.0, high=1.0, size=sampling_rate * duration)\n",
    "\n",
    "    if quantization_format == 'int':\n",
    "        if sample_depth == 16:\n",
    "            max_val = 32767\n",
    "            samples = np.int16(samples * max_val)\n",
    "        elif sample_depth == 24:\n",
    "            max_val = 8388607\n",
    "            samples = np.int32(samples * max_val)\n",
    "        elif sample_depth == 32:\n",
    "            max_val = 2147483647\n",
    "            samples = np.int32(samples * max_val)\n",
    "        else:\n",
    "            raise ValueError(\"Unsupported sample depth for int format. Choose from 16, 24, 32.\")\n",
    "    elif quantization_format == 'float':\n",
    "        if sample_depth == 32:\n",
    "            samples = np.float32(samples)\n",
    "        else:\n",
    "            raise ValueError(\"Unsupported sample depth for float format. Only 32 is supported.\")\n",
    "    else:\n",
    "        raise ValueError(\"Unsupported quantization format. Choose 'int' or 'float'.\")\n",
    "\n",
    "    # 保存为WAV文件\n",
    "    write(filename, sampling_rate, samples)\n",
    "    print(f\"Generated white noise audio file: {filename}\")"
   ]
  },
  {
   "cell_type": "code",
   "execution_count": 4,
   "metadata": {},
   "outputs": [
    {
     "name": "stdout",
     "output_type": "stream",
     "text": [
      "Generated white noise audio file: ../../ltspice/x2.wav\n"
     ]
    }
   ],
   "source": [
    "duration = 60\n",
    "sampling_rate = 192000\n",
    "sample_depth = 32\n",
    "quantization_format = 'int'\n",
    "filename = '../../ltspice/x2.wav'\n",
    "generate_white_noise(duration, sampling_rate, sample_depth, quantization_format, filename)"
   ]
  }
 ],
 "metadata": {
  "kernelspec": {
   "display_name": "wdf",
   "language": "python",
   "name": "python3"
  },
  "language_info": {
   "codemirror_mode": {
    "name": "ipython",
    "version": 3
   },
   "file_extension": ".py",
   "mimetype": "text/x-python",
   "name": "python",
   "nbconvert_exporter": "python",
   "pygments_lexer": "ipython3",
   "version": "3.12.2"
  }
 },
 "nbformat": 4,
 "nbformat_minor": 2
}
