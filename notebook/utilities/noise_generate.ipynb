{
 "cells": [
  {
   "cell_type": "code",
   "execution_count": 2,
   "metadata": {},
   "outputs": [],
   "source": [
    "import numpy as np\n",
    "from scipy.io.wavfile import write\n",
    "from scipy.signal import butter, lfilter"
   ]
  },
  {
   "cell_type": "code",
   "execution_count": 3,
   "metadata": {},
   "outputs": [],
   "source": [
    "def generate_white_noise(duration=1, sampling_rate=44100, sample_depth=16,\n",
    "                         quantization_format='int', filename='white_noise.wav',\n",
    "                         cutoff_freq=None, filter_order=5):\n",
    "    # Generate white noise\n",
    "    samples = np.random.uniform(low=-1.0, high=1.0, size=sampling_rate * duration)\n",
    "\n",
    "    # Apply low-pass filter if cutoff frequency is specified\n",
    "    if cutoff_freq is not None:\n",
    "        nyquist = 0.5 * sampling_rate\n",
    "        normalized_cutoff = cutoff_freq / nyquist\n",
    "        b, a = butter(filter_order, normalized_cutoff, btype='low')\n",
    "        samples = samples.astype(np.float64)  # Convert samples to float64\n",
    "        samples = lfilter(b, a, samples)\n",
    "\n",
    "    # Quantize samples based on the specified format and depth\n",
    "    if quantization_format == 'int':\n",
    "        if sample_depth == 16:\n",
    "            samples = np.int16(samples * 32767)\n",
    "        elif sample_depth == 24:\n",
    "            samples = np.int32(samples * 8388607)\n",
    "        elif sample_depth == 32:\n",
    "            samples = np.int32(samples * 2147483647)\n",
    "        else:\n",
    "            raise ValueError(\"Unsupported sample depth for int format. Choose from 16, 24, 32.\")\n",
    "    elif quantization_format == 'float':\n",
    "        if sample_depth == 32:\n",
    "            samples = np.float32(samples)\n",
    "        elif sample_depth == 64:\n",
    "            samples = np.float64(samples)\n",
    "        else:\n",
    "            raise ValueError(\"Unsupported sample depth for float format. Choose from 32, 64.\")\n",
    "    else:\n",
    "        raise ValueError(\"Unsupported quantization format. Choose 'int' or 'float'.\")\n",
    "\n",
    "    # Save the audio file\n",
    "    write(filename, sampling_rate, samples)\n",
    "    print(f\"Generated white noise audio file with low-pass filter: {filename}\")"
   ]
  },
  {
   "cell_type": "code",
   "execution_count": 4,
   "metadata": {},
   "outputs": [],
   "source": [
    "def generate_linear_scan(duration=1, sampling_rate=44100, start=0.01, end=0.99, filename='scan.txt'):\n",
    "    samples = np.linspace(start, end, num=sampling_rate * duration)\n",
    "    samples = np.round(samples * 100) / 100\n",
    "\n",
    "    with open(filename, 'w') as f:\n",
    "        for i, s in enumerate(samples):\n",
    "            f.write(f\"{i/sampling_rate} {s}\\n\")\n",
    "    print(f\"Generated linear scan data file: {filename}\")\n",
    "\n",
    "\n",
    "def generate_sin_scan(duration=1, sampling_rate=44100, frequency=5, amplitude_min=0.01, amplitude_max=0.99, filename='scan.txt'):\n",
    "    samples = np.sin(2 * np.pi * frequency * np.linspace(0, duration, num=sampling_rate * duration))\n",
    "    samples = (samples + 1) / 2 * (amplitude_max - amplitude_min) + amplitude_min\n",
    "    samples = np.round(samples * 100) / 100\n",
    "\n",
    "    with open(filename, 'w') as f:\n",
    "        for i, s in enumerate(samples):\n",
    "            f.write(f\"{i/sampling_rate} {s}\\n\")\n",
    "    print(f\"Generated sin scan data file: {filename}\")\n",
    "\n",
    "def generate_triangle_scan(duration=1, sampling_rate=44100, frequency=5, amplitude_min=0.01, amplitude_max=0.99, filename='triangle_scan.txt'):\n",
    "    time = np.linspace(0, duration, num=sampling_rate * duration)\n",
    "    samples = np.abs(2 * (time * frequency % 1) - 1)\n",
    "    samples = samples * (amplitude_max - amplitude_min) + amplitude_min\n",
    "    samples = np.round(samples * 100) / 100\n",
    "    \n",
    "    with open(filename, 'w') as f:\n",
    "        for i, s in enumerate(samples):\n",
    "            f.write(f\"{i/sampling_rate} {s}\\n\")\n",
    "    \n",
    "    print(f\"Generated triangle scan data file: {filename}\")"
   ]
  },
  {
   "cell_type": "code",
   "execution_count": 5,
   "metadata": {},
   "outputs": [
    {
     "name": "stdout",
     "output_type": "stream",
     "text": [
      "Generated white noise audio file with low-pass filter: ../../ltspice/x1.wav\n"
     ]
    }
   ],
   "source": [
    "duration = 60\n",
    "sampling_rate = 192000\n",
    "sample_depth = 32\n",
    "quantization_format = 'int'\n",
    "cutoff_freq = None\n",
    "order = 5\n",
    "filename = '../../ltspice/x1.wav'\n",
    "generate_white_noise(duration, sampling_rate, sample_depth, quantization_format, filename, cutoff_freq)"
   ]
  },
  {
   "cell_type": "code",
   "execution_count": 6,
   "metadata": {},
   "outputs": [
    {
     "name": "stdout",
     "output_type": "stream",
     "text": [
      "Generated linear scan data file: ../../ltspice/scan1.txt\n"
     ]
    }
   ],
   "source": [
    "duration = 5\n",
    "sampling_rate = 192000\n",
    "filename = '../../ltspice/scan1.txt'\n",
    "generate_linear_scan(duration, sampling_rate, 0.01, 0.99, filename)\n",
    "# generate_triangle_scan(duration, sampling_rate, 5, 0.01, 0.99, filename)"
   ]
  },
  {
   "cell_type": "code",
   "execution_count": 7,
   "metadata": {},
   "outputs": [
    {
     "name": "stdout",
     "output_type": "stream",
     "text": [
      "Generated triangle scan data file: ../../ltspice/scan2.txt\n"
     ]
    }
   ],
   "source": [
    "duration = 5\n",
    "sampling_rate = 192000\n",
    "filename = '../../ltspice/scan2.txt'\n",
    "generate_triangle_scan(duration, sampling_rate, 1, 0.01, 0.99, filename)"
   ]
  }
 ],
 "metadata": {
  "kernelspec": {
   "display_name": "wdf",
   "language": "python",
   "name": "python3"
  },
  "language_info": {
   "codemirror_mode": {
    "name": "ipython",
    "version": 3
   },
   "file_extension": ".py",
   "mimetype": "text/x-python",
   "name": "python",
   "nbconvert_exporter": "python",
   "pygments_lexer": "ipython3",
   "version": "3.12.2"
  }
 },
 "nbformat": 4,
 "nbformat_minor": 2
}
