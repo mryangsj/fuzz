{
 "cells": [
  {
   "cell_type": "code",
   "execution_count": 1,
   "metadata": {},
   "outputs": [],
   "source": [
    "import h5py\n",
    "import numpy as np"
   ]
  },
  {
   "cell_type": "code",
   "execution_count": 22,
   "metadata": {},
   "outputs": [
    {
     "name": "stdout",
     "output_type": "stream",
     "text": [
      "S_matlab shape:  (10, 10, 101, 101, 6)\n",
      "S_row_major shape:  (6, 101, 101, 10, 10)\n",
      "Z_matlab shape:  (10, 10, 101, 101, 6)\n",
      "Z_row_major shape:  (6, 101, 101, 10, 10)\n",
      "S shape:  (6, 101, 101, 10, 10)\n",
      "Sf shape:  (6, 101, 101, 2, 4)\n",
      "Sb shape:  (6, 101, 101, 3, 6)\n",
      "Z_root shape:  (6, 101, 101, 2, 2)\n"
     ]
    }
   ],
   "source": [
    "S_path = \"/Users/yangshijie/Desktop/fuzz/S.hdf5\"\n",
    "with h5py.File(S_path, \"r\") as file:\n",
    "    S_matlab = file[\"/S\"][:]\n",
    "    S_row_major = S_matlab.T\n",
    "    print(\"S_matlab shape: \", S_matlab.shape)\n",
    "    print(\"S_row_major shape: \", S_row_major.shape)\n",
    "\n",
    "Z_path = \"/Users/yangshijie/Desktop/fuzz/Z.hdf5\"\n",
    "with h5py.File(Z_path, \"r\") as file:\n",
    "    Z_matlab = file[\"/Z\"][:]\n",
    "    Z_row_major = Z_matlab.T\n",
    "    print(\"Z_matlab shape: \", Z_matlab.shape)\n",
    "    print(\"Z_row_major shape: \", Z_row_major.shape)\n",
    "\n",
    "\n",
    "fs_dict = {\n",
    "    0: \"44.1k\",\n",
    "    1: \"48.0k\",\n",
    "    2: \"88.2k\",\n",
    "    3: \"96.0k\",\n",
    "    4: \"176.4k\",\n",
    "    5: \"192.0k\"\n",
    "}\n",
    "\n",
    "with h5py.File('/Users/yangshijie/Desktop/fuzz/SZ.hdf5', 'w') as f:\n",
    "    # group_s = f.create_group(\"S\")\n",
    "    gourp_sf = f.create_group(\"Sf\")\n",
    "    group_sb = f.create_group(\"Sb\")\n",
    "    group_zr = f.create_group(\"Zr\")\n",
    "\n",
    "    S = S_row_major.astype(np.float32)\n",
    "    Sf = S[:, :, :, 0:2, [6, 7, 8, 9]]\n",
    "    Sb = S[:, :, :, 6:9, [0, 1, 6, 7, 8, 9]]\n",
    "    Zr = Z_row_major[:, :, :, 0:2, 0:2].astype(np.float32)\n",
    "    print(\"S shape: \", S.shape)\n",
    "    print(\"Sf shape: \", Sf.shape)\n",
    "    print(\"Sb shape: \", Sb.shape)\n",
    "    print(\"Z_root shape: \", Zr.shape)\n",
    "\n",
    "    for i in range(6):\n",
    "        # group_s_fs = group_s.create_group(fs_dict[i])\n",
    "        gourp_sf_fs = gourp_sf.create_group(fs_dict[i])\n",
    "        group_sb_fs = group_sb.create_group(fs_dict[i])\n",
    "        group_zr_fs = group_zr.create_group(fs_dict[i])\n",
    "\n",
    "        for j in range(101):\n",
    "            for k in range(101):\n",
    "                dataset_name = f'lin={j}%_vol={k}%'\n",
    "                # group_s_fs.create_dataset(dataset_name, data=S_row_major[i, j, k, :, :])\n",
    "                gourp_sf_fs.create_dataset(dataset_name, data=Sf[i, j, k, :, :])\n",
    "                group_sb_fs.create_dataset(dataset_name, data=Sb[i, j, k, :, :])\n",
    "                group_zr_fs.create_dataset(dataset_name, data=Zr[i, j, k, :, :])"
   ]
  },
  {
   "cell_type": "code",
   "execution_count": null,
   "metadata": {},
   "outputs": [],
   "source": [
    "fs_dict = {\n",
    "    0: \"44.1k\",\n",
    "    1: \"48.0k\",\n",
    "    2: \"88.2k\",\n",
    "    3: \"96.0k\",\n",
    "    4: \"176.4k\",\n",
    "    5: \"192.0k\"\n",
    "}\n",
    "\n",
    "for i in range(6):\n",
    "        for j in range(101):\n",
    "            for k in range(101):\n",
    "                # 创建一个数据集，数据集的名称反映了索引\n",
    "                dataset_name = f'S_fs={fs_dict[i]}_lin={j}%_vol={k}%'\n",
    "                print(dataset_name)"
   ]
  },
  {
   "cell_type": "code",
   "execution_count": 3,
   "metadata": {},
   "outputs": [
    {
     "name": "stdout",
     "output_type": "stream",
     "text": [
      "h5_matlab shape:  (10, 10, 101, 101, 6)\n",
      "h5_row_major shape:  (6, 101, 101, 10, 10)\n",
      "done\n"
     ]
    }
   ],
   "source": [
    "h5_path = \"/Users/yangshijie/Desktop/fuzz/Z.hdf5\"\n",
    "\n",
    "with h5py.File(h5_path, \"r\") as file:\n",
    "    h5_matlab = file[\"/Z\"][:]\n",
    "    h5_row_major = h5_matlab.T\n",
    "    print(\"h5_matlab shape: \", h5_matlab.shape)\n",
    "    print(\"h5_row_major shape: \", h5_row_major.shape)\n",
    "\n",
    "# write to a new file\n",
    "h5_path = \"/Users/yangshijie/Desktop/fuzz/Z_row_major.hdf5\"\n",
    "with h5py.File(h5_path, \"w\") as file:\n",
    "    file.create_dataset(\"/Z\", data=h5_row_major)\n",
    "    file.close()\n",
    "    print(\"done\")"
   ]
  }
 ],
 "metadata": {
  "kernelspec": {
   "display_name": "wdf",
   "language": "python",
   "name": "python3"
  },
  "language_info": {
   "codemirror_mode": {
    "name": "ipython",
    "version": 3
   },
   "file_extension": ".py",
   "mimetype": "text/x-python",
   "name": "python",
   "nbconvert_exporter": "python",
   "pygments_lexer": "ipython3",
   "version": "3.12.2"
  }
 },
 "nbformat": 4,
 "nbformat_minor": 2
}
